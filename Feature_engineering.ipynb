{
  "nbformat": 4,
  "nbformat_minor": 0,
  "metadata": {
    "colab": {
      "name": "Feature_engineering.ipynb",
      "provenance": [],
      "collapsed_sections": []
    },
    "kernelspec": {
      "name": "python3",
      "display_name": "Python 3"
    }
  },
  "cells": [
    {
      "cell_type": "code",
      "metadata": {
        "id": "gXy3LK6mvxqa"
      },
      "source": [
        "import numpy as np\n",
        "import pandas as pd\n",
        "import matplotlib.pyplot as plt\n",
        "import seaborn as sns\n",
        "from scipy import stats\n",
        "\n",
        "import gc\n",
        "from collections import Counter\n",
        "import copy\n",
        "\n",
        "import warnings\n",
        "warnings.filterwarnings(\"ignore\")\n",
        "\n",
        "%matplotlib inline"
      ],
      "execution_count": 2,
      "outputs": []
    },
    {
      "cell_type": "code",
      "metadata": {
        "id": "tt_zS2dr-jup",
        "outputId": "03b89176-816f-4c13-98b4-f373ea10daa0",
        "colab": {
          "base_uri": "https://localhost:8080/",
          "height": 34
        }
      },
      "source": [
        "from google.colab import drive\n",
        "drive.mount('/content/drive')\n",
        "\n"
      ],
      "execution_count": 3,
      "outputs": [
        {
          "output_type": "stream",
          "text": [
            "Mounted at /content/drive\n"
          ],
          "name": "stdout"
        }
      ]
    },
    {
      "cell_type": "code",
      "metadata": {
        "id": "2pF-4D01svLY"
      },
      "source": [
        "# import imp\n",
        "# util = imp.new_module('util')\n",
        "exec(open('utils.py').read())"
      ],
      "execution_count": 51,
      "outputs": []
    },
    {
      "cell_type": "code",
      "metadata": {
        "id": "xtw9CuykwQU2",
        "outputId": "eda238fd-05bf-44e0-cfb7-297739378924",
        "colab": {
          "base_uri": "https://localhost:8080/",
          "height": 153
        }
      },
      "source": [
        "num_rows = None\n",
        "\n",
        "\n",
        "root = '/content/drive/My Drive/data/RepeatBuyer'\n",
        "test_file = root+'/data_format1/test_format1.csv'\n",
        "train_file = root+'/data_format1/train_format1.csv'\n",
        "\n",
        "user_info_file = root+'/data_format1/user_info_format1.csv'\n",
        "user_log_file = root+'/data_format1/user_log_format1.csv'\n",
        "\n",
        "train_data = reduce_mem_usage(read_csv(train_file, num_rows))\n",
        "test_data = reduce_mem_usage(read_csv(test_file, num_rows))\n",
        "\n",
        "user_info = reduce_mem_usage(read_csv(user_info_file, num_rows))\n",
        "user_log = reduce_mem_usage(read_csv(user_log_file, num_rows))"
      ],
      "execution_count": 8,
      "outputs": [
        {
          "output_type": "stream",
          "text": [
            "Memory usage after optimization is: 1.74 MB\n",
            "Decreased by 70.8%\n",
            "Memory usage after optimization is: 3.49 MB\n",
            "Decreased by 41.7%\n",
            "Memory usage after optimization is: 3.24 MB\n",
            "Decreased by 66.7%\n",
            "Memory usage after optimization is: 890.48 MB\n",
            "Decreased by 69.6%\n"
          ],
          "name": "stdout"
        }
      ]
    },
    {
      "cell_type": "code",
      "metadata": {
        "id": "l9ZzPkcU9VQ0",
        "outputId": "ac477977-c47a-4a78-c260-52ad570b1f50",
        "colab": {
          "base_uri": "https://localhost:8080/",
          "height": 187
        }
      },
      "source": [
        "train_data.info()"
      ],
      "execution_count": null,
      "outputs": [
        {
          "output_type": "stream",
          "text": [
            "<class 'pandas.core.frame.DataFrame'>\n",
            "RangeIndex: 260864 entries, 0 to 260863\n",
            "Data columns (total 3 columns):\n",
            " #   Column       Non-Null Count   Dtype\n",
            "---  ------       --------------   -----\n",
            " 0   user_id      260864 non-null  int32\n",
            " 1   merchant_id  260864 non-null  int16\n",
            " 2   label        260864 non-null  int8 \n",
            "dtypes: int16(1), int32(1), int8(1)\n",
            "memory usage: 1.7 MB\n"
          ],
          "name": "stdout"
        }
      ]
    },
    {
      "cell_type": "code",
      "metadata": {
        "id": "TjCh9tJ_eiX8",
        "outputId": "2a738f25-2fd8-4aeb-c002-58eb12d2b481",
        "colab": {
          "base_uri": "https://localhost:8080/",
          "height": 187
        }
      },
      "source": [
        "test_data.info()"
      ],
      "execution_count": null,
      "outputs": [
        {
          "output_type": "stream",
          "text": [
            "<class 'pandas.core.frame.DataFrame'>\n",
            "RangeIndex: 261477 entries, 0 to 261476\n",
            "Data columns (total 3 columns):\n",
            " #   Column       Non-Null Count   Dtype  \n",
            "---  ------       --------------   -----  \n",
            " 0   user_id      261477 non-null  int32  \n",
            " 1   merchant_id  261477 non-null  int16  \n",
            " 2   prob         0 non-null       float64\n",
            "dtypes: float64(1), int16(1), int32(1)\n",
            "memory usage: 3.5 MB\n"
          ],
          "name": "stdout"
        }
      ]
    },
    {
      "cell_type": "code",
      "metadata": {
        "id": "9DnV0wuU7gl7",
        "outputId": "6832638e-5cf5-49bc-ea4f-726f09aea7f4",
        "colab": {
          "base_uri": "https://localhost:8080/",
          "height": 187
        }
      },
      "source": [
        "user_info.info()"
      ],
      "execution_count": null,
      "outputs": [
        {
          "output_type": "stream",
          "text": [
            "<class 'pandas.core.frame.DataFrame'>\n",
            "RangeIndex: 424170 entries, 0 to 424169\n",
            "Data columns (total 3 columns):\n",
            " #   Column     Non-Null Count   Dtype  \n",
            "---  ------     --------------   -----  \n",
            " 0   user_id    424170 non-null  int32  \n",
            " 1   age_range  421953 non-null  float16\n",
            " 2   gender     417734 non-null  float16\n",
            "dtypes: float16(2), int32(1)\n",
            "memory usage: 3.2 MB\n"
          ],
          "name": "stdout"
        }
      ]
    },
    {
      "cell_type": "markdown",
      "metadata": {
        "id": "1JCzMYxO7fPw"
      },
      "source": [
        ""
      ]
    },
    {
      "cell_type": "code",
      "metadata": {
        "id": "1rWcMXf-7i0N",
        "outputId": "371180bc-2b67-422e-f18d-96fe9bd02948",
        "colab": {
          "base_uri": "https://localhost:8080/",
          "height": 255
        }
      },
      "source": [
        "user_log.info()"
      ],
      "execution_count": 9,
      "outputs": [
        {
          "output_type": "stream",
          "text": [
            "<class 'pandas.core.frame.DataFrame'>\n",
            "RangeIndex: 54925330 entries, 0 to 54925329\n",
            "Data columns (total 7 columns):\n",
            " #   Column       Dtype  \n",
            "---  ------       -----  \n",
            " 0   user_id      int32  \n",
            " 1   item_id      int32  \n",
            " 2   cat_id       int16  \n",
            " 3   seller_id    int16  \n",
            " 4   brand_id     float16\n",
            " 5   time_stamp   int16  \n",
            " 6   action_type  int8   \n",
            "dtypes: float16(1), int16(3), int32(2), int8(1)\n",
            "memory usage: 890.5 MB\n"
          ],
          "name": "stdout"
        }
      ]
    },
    {
      "cell_type": "markdown",
      "metadata": {
        "id": "XeSXv3xVDuqJ"
      },
      "source": [
        "## Merge User info and label"
      ]
    },
    {
      "cell_type": "code",
      "metadata": {
        "id": "B-FAiFJg8hCP",
        "outputId": "0f1cc6ae-d74b-43d2-d6fe-e4babda2b2ba",
        "colab": {
          "base_uri": "https://localhost:8080/",
          "height": 34
        }
      },
      "source": [
        "del test_data['prob']\n",
        "all_data = train_data.append(test_data)\n",
        "all_data = all_data.merge(user_info,on=['user_id'],how='left')\n",
        "del train_data, test_data, user_info\n",
        "gc.collect()"
      ],
      "execution_count": 10,
      "outputs": [
        {
          "output_type": "execute_result",
          "data": {
            "text/plain": [
              "141"
            ]
          },
          "metadata": {
            "tags": []
          },
          "execution_count": 10
        }
      ]
    },
    {
      "cell_type": "code",
      "metadata": {
        "id": "wK2mTkjD8mXd",
        "outputId": "64e23da7-d40b-45ed-d5dd-84f35909966b",
        "colab": {
          "base_uri": "https://localhost:8080/",
          "height": 204
        }
      },
      "source": [
        "all_data.head()"
      ],
      "execution_count": null,
      "outputs": [
        {
          "output_type": "execute_result",
          "data": {
            "text/html": [
              "<div>\n",
              "<style scoped>\n",
              "    .dataframe tbody tr th:only-of-type {\n",
              "        vertical-align: middle;\n",
              "    }\n",
              "\n",
              "    .dataframe tbody tr th {\n",
              "        vertical-align: top;\n",
              "    }\n",
              "\n",
              "    .dataframe thead th {\n",
              "        text-align: right;\n",
              "    }\n",
              "</style>\n",
              "<table border=\"1\" class=\"dataframe\">\n",
              "  <thead>\n",
              "    <tr style=\"text-align: right;\">\n",
              "      <th></th>\n",
              "      <th>user_id</th>\n",
              "      <th>merchant_id</th>\n",
              "      <th>label</th>\n",
              "      <th>age_range</th>\n",
              "      <th>gender</th>\n",
              "    </tr>\n",
              "  </thead>\n",
              "  <tbody>\n",
              "    <tr>\n",
              "      <th>0</th>\n",
              "      <td>34176</td>\n",
              "      <td>3906</td>\n",
              "      <td>0.0</td>\n",
              "      <td>6.0</td>\n",
              "      <td>0.0</td>\n",
              "    </tr>\n",
              "    <tr>\n",
              "      <th>1</th>\n",
              "      <td>34176</td>\n",
              "      <td>121</td>\n",
              "      <td>0.0</td>\n",
              "      <td>6.0</td>\n",
              "      <td>0.0</td>\n",
              "    </tr>\n",
              "    <tr>\n",
              "      <th>2</th>\n",
              "      <td>34176</td>\n",
              "      <td>4356</td>\n",
              "      <td>1.0</td>\n",
              "      <td>6.0</td>\n",
              "      <td>0.0</td>\n",
              "    </tr>\n",
              "    <tr>\n",
              "      <th>3</th>\n",
              "      <td>34176</td>\n",
              "      <td>2217</td>\n",
              "      <td>0.0</td>\n",
              "      <td>6.0</td>\n",
              "      <td>0.0</td>\n",
              "    </tr>\n",
              "    <tr>\n",
              "      <th>4</th>\n",
              "      <td>230784</td>\n",
              "      <td>4818</td>\n",
              "      <td>0.0</td>\n",
              "      <td>0.0</td>\n",
              "      <td>0.0</td>\n",
              "    </tr>\n",
              "  </tbody>\n",
              "</table>\n",
              "</div>"
            ],
            "text/plain": [
              "   user_id  merchant_id  label  age_range  gender\n",
              "0    34176         3906    0.0        6.0     0.0\n",
              "1    34176          121    0.0        6.0     0.0\n",
              "2    34176         4356    1.0        6.0     0.0\n",
              "3    34176         2217    0.0        6.0     0.0\n",
              "4   230784         4818    0.0        0.0     0.0"
            ]
          },
          "metadata": {
            "tags": []
          },
          "execution_count": 62
        }
      ]
    },
    {
      "cell_type": "markdown",
      "metadata": {
        "id": "ZZ9xCpZLEre6"
      },
      "source": [
        "## Sort user log based on time stamp"
      ]
    },
    {
      "cell_type": "code",
      "metadata": {
        "id": "9kos5tUxEbtY"
      },
      "source": [
        "user_log = user_log.sort_values(['user_id','time_stamp'])"
      ],
      "execution_count": 11,
      "outputs": []
    },
    {
      "cell_type": "code",
      "metadata": {
        "id": "f1BcWp3dEomq",
        "outputId": "82c4ab3c-63d6-4dad-cdd7-9e11f924a97c",
        "colab": {
          "base_uri": "https://localhost:8080/",
          "height": 204
        }
      },
      "source": [
        "user_log.head()"
      ],
      "execution_count": 12,
      "outputs": [
        {
          "output_type": "execute_result",
          "data": {
            "text/html": [
              "<div>\n",
              "<style scoped>\n",
              "    .dataframe tbody tr th:only-of-type {\n",
              "        vertical-align: middle;\n",
              "    }\n",
              "\n",
              "    .dataframe tbody tr th {\n",
              "        vertical-align: top;\n",
              "    }\n",
              "\n",
              "    .dataframe thead th {\n",
              "        text-align: right;\n",
              "    }\n",
              "</style>\n",
              "<table border=\"1\" class=\"dataframe\">\n",
              "  <thead>\n",
              "    <tr style=\"text-align: right;\">\n",
              "      <th></th>\n",
              "      <th>user_id</th>\n",
              "      <th>item_id</th>\n",
              "      <th>cat_id</th>\n",
              "      <th>seller_id</th>\n",
              "      <th>brand_id</th>\n",
              "      <th>time_stamp</th>\n",
              "      <th>action_type</th>\n",
              "    </tr>\n",
              "  </thead>\n",
              "  <tbody>\n",
              "    <tr>\n",
              "      <th>23288890</th>\n",
              "      <td>1</td>\n",
              "      <td>181459</td>\n",
              "      <td>276</td>\n",
              "      <td>2245</td>\n",
              "      <td>4752.0</td>\n",
              "      <td>1009</td>\n",
              "      <td>0</td>\n",
              "    </tr>\n",
              "    <tr>\n",
              "      <th>23288891</th>\n",
              "      <td>1</td>\n",
              "      <td>779078</td>\n",
              "      <td>276</td>\n",
              "      <td>2245</td>\n",
              "      <td>4752.0</td>\n",
              "      <td>1009</td>\n",
              "      <td>0</td>\n",
              "    </tr>\n",
              "    <tr>\n",
              "      <th>23288892</th>\n",
              "      <td>1</td>\n",
              "      <td>779078</td>\n",
              "      <td>276</td>\n",
              "      <td>2245</td>\n",
              "      <td>4752.0</td>\n",
              "      <td>1009</td>\n",
              "      <td>0</td>\n",
              "    </tr>\n",
              "    <tr>\n",
              "      <th>23288893</th>\n",
              "      <td>1</td>\n",
              "      <td>452837</td>\n",
              "      <td>276</td>\n",
              "      <td>2245</td>\n",
              "      <td>4752.0</td>\n",
              "      <td>1009</td>\n",
              "      <td>0</td>\n",
              "    </tr>\n",
              "    <tr>\n",
              "      <th>23288894</th>\n",
              "      <td>1</td>\n",
              "      <td>543397</td>\n",
              "      <td>276</td>\n",
              "      <td>2245</td>\n",
              "      <td>4752.0</td>\n",
              "      <td>1009</td>\n",
              "      <td>0</td>\n",
              "    </tr>\n",
              "  </tbody>\n",
              "</table>\n",
              "</div>"
            ],
            "text/plain": [
              "          user_id  item_id  cat_id  ...  brand_id  time_stamp  action_type\n",
              "23288890        1   181459     276  ...    4752.0        1009            0\n",
              "23288891        1   779078     276  ...    4752.0        1009            0\n",
              "23288892        1   779078     276  ...    4752.0        1009            0\n",
              "23288893        1   452837     276  ...    4752.0        1009            0\n",
              "23288894        1   543397     276  ...    4752.0        1009            0\n",
              "\n",
              "[5 rows x 7 columns]"
            ]
          },
          "metadata": {
            "tags": []
          },
          "execution_count": 12
        }
      ]
    },
    {
      "cell_type": "markdown",
      "metadata": {
        "id": "3bvgvTtjMJDA"
      },
      "source": [
        "## Group all features by user_id"
      ]
    },
    {
      "cell_type": "code",
      "metadata": {
        "id": "7bRRjtzfFJLB"
      },
      "source": [
        "list_join_func = lambda x: \" \".join([str(i) for i in x])\n",
        "\n",
        "\n",
        "agg_dict = {\n",
        "            'item_id' : list_join_func,\t\n",
        "            'cat_id' : list_join_func,\n",
        "            'seller_id' : list_join_func,\n",
        "            'brand_id' : list_join_func,\n",
        "            'time_stamp' : list_join_func,\n",
        "            'action_type' : list_join_func\n",
        "        }\n",
        "\n",
        "rename_dict = {\n",
        "            'item_id' : 'item_path',\n",
        "            'cat_id' : 'cat_path',\n",
        "            'seller_id' : 'seller_path',\n",
        "            'brand_id' : 'brand_path',\n",
        "            'time_stamp' : 'time_stamp_path',\n",
        "            'action_type' : 'action_type_path'\n",
        "        }\n"
      ],
      "execution_count": 17,
      "outputs": []
    },
    {
      "cell_type": "code",
      "metadata": {
        "id": "9c9hHgmbMPNa",
        "outputId": "3bae2a16-75b9-47bb-a7f5-83be58a07e2f",
        "colab": {
          "base_uri": "https://localhost:8080/",
          "height": 459
        }
      },
      "source": [
        "user_log_path = user_log.groupby('user_id').agg(agg_dict).reset_index().rename(columns=rename_dict)\n",
        "user_log_path.head()"
      ],
      "execution_count": 14,
      "outputs": [
        {
          "output_type": "execute_result",
          "data": {
            "text/html": [
              "<div>\n",
              "<style scoped>\n",
              "    .dataframe tbody tr th:only-of-type {\n",
              "        vertical-align: middle;\n",
              "    }\n",
              "\n",
              "    .dataframe tbody tr th {\n",
              "        vertical-align: top;\n",
              "    }\n",
              "\n",
              "    .dataframe thead th {\n",
              "        text-align: right;\n",
              "    }\n",
              "</style>\n",
              "<table border=\"1\" class=\"dataframe\">\n",
              "  <thead>\n",
              "    <tr style=\"text-align: right;\">\n",
              "      <th></th>\n",
              "      <th>user_id</th>\n",
              "      <th>item_path</th>\n",
              "      <th>cat_path</th>\n",
              "      <th>seller_path</th>\n",
              "      <th>brand_path</th>\n",
              "      <th>time_stamp_path</th>\n",
              "      <th>action_type_path</th>\n",
              "    </tr>\n",
              "  </thead>\n",
              "  <tbody>\n",
              "    <tr>\n",
              "      <th>0</th>\n",
              "      <td>1</td>\n",
              "      <td>181459 779078 779078 452837 543397 504149 5041...</td>\n",
              "      <td>276 276 276 276 276 1023 1023 1023 1023 1252 1...</td>\n",
              "      <td>2245 2245 2245 2245 2245 925 925 925 925 4026 ...</td>\n",
              "      <td>4752.0 4752.0 4752.0 4752.0 4752.0 7400.0 7400...</td>\n",
              "      <td>1009 1009 1009 1009 1009 1011 1011 1011 1011 1...</td>\n",
              "      <td>0 0 0 0 0 0 0 2 0 0 0 0 0 0 2 0 0 0 0 0 0 2 2 ...</td>\n",
              "    </tr>\n",
              "    <tr>\n",
              "      <th>1</th>\n",
              "      <td>2</td>\n",
              "      <td>348983 749563 239288 751744 239288 714176 1972...</td>\n",
              "      <td>177 177 602 602 602 1213 602 602 602 1213 1213...</td>\n",
              "      <td>2223 2223 420 420 420 420 420 420 420 420 420 ...</td>\n",
              "      <td>3272.0 3272.0 4952.0 4952.0 4952.0 4058.0 4952...</td>\n",
              "      <td>527 527 626 626 626 626 626 626 626 626 626 62...</td>\n",
              "      <td>0 0 0 0 0 0 0 0 0 0 0 0 0 0 0 0 0 0 2 2 2 0 0 ...</td>\n",
              "    </tr>\n",
              "    <tr>\n",
              "      <th>2</th>\n",
              "      <td>3</td>\n",
              "      <td>895754 895754 182882 182882 985337 175397 9463...</td>\n",
              "      <td>1505 1505 1271 1271 1271 662 1134 1134 1134 45...</td>\n",
              "      <td>795 795 2123 2123 4925 1102 4461 4461 4461 474...</td>\n",
              "      <td>3608.0 3608.0 4796.0 4796.0 8004.0 1214.0 905....</td>\n",
              "      <td>516 516 627 627 627 727 819 819 820 906 906 90...</td>\n",
              "      <td>2 2 0 0 0 0 0 2 0 0 0 0 0 0 0 0 0 0 0 0 0 0 0 ...</td>\n",
              "    </tr>\n",
              "    <tr>\n",
              "      <th>3</th>\n",
              "      <td>4</td>\n",
              "      <td>836727 243874 185489 95474 30073 790055 790055...</td>\n",
              "      <td>612 1577 1505 1505 1505 1505 1505 1505 1505 15...</td>\n",
              "      <td>1221 1221 1221 1221 1221 1221 1221 1221 1221 1...</td>\n",
              "      <td>7736.0 7736.0 7736.0 7736.0 7736.0 7736.0 7736...</td>\n",
              "      <td>527 527 527 527 527 527 527 527 527 527 527 52...</td>\n",
              "      <td>0 0 0 0 0 0 0 0 0 0 0 0 0 0 0 0 0 0 0 0 0 0 0 ...</td>\n",
              "    </tr>\n",
              "    <tr>\n",
              "      <th>4</th>\n",
              "      <td>5</td>\n",
              "      <td>511956 728354 568450 754044 1011255 741215 362...</td>\n",
              "      <td>302 351 812 1213 142 464 1028 35 1213 351 142 ...</td>\n",
              "      <td>3098 3215 641 3736 1483 176 4848 641 3736 4547...</td>\n",
              "      <td>5544.0 5480.0 4264.0 3124.0 4640.0 6664.0 2804...</td>\n",
              "      <td>519 520 520 520 520 520 520 520 520 520 520 52...</td>\n",
              "      <td>3 0 0 2 0 0 0 0 0 0 0 2 0 0 0 0 0 0 0 0 0 0 0 ...</td>\n",
              "    </tr>\n",
              "  </tbody>\n",
              "</table>\n",
              "</div>"
            ],
            "text/plain": [
              "   user_id  ...                                   action_type_path\n",
              "0        1  ...  0 0 0 0 0 0 0 2 0 0 0 0 0 0 2 0 0 0 0 0 0 2 2 ...\n",
              "1        2  ...  0 0 0 0 0 0 0 0 0 0 0 0 0 0 0 0 0 0 2 2 2 0 0 ...\n",
              "2        3  ...  2 2 0 0 0 0 0 2 0 0 0 0 0 0 0 0 0 0 0 0 0 0 0 ...\n",
              "3        4  ...  0 0 0 0 0 0 0 0 0 0 0 0 0 0 0 0 0 0 0 0 0 0 0 ...\n",
              "4        5  ...  3 0 0 2 0 0 0 0 0 0 0 2 0 0 0 0 0 0 0 0 0 0 0 ...\n",
              "\n",
              "[5 rows x 7 columns]"
            ]
          },
          "metadata": {
            "tags": []
          },
          "execution_count": 14
        }
      ]
    },
    {
      "cell_type": "code",
      "metadata": {
        "id": "-jTHSB-QdBmx"
      },
      "source": [
        "all_data_path = all_data.merge(user_log_path,on='user_id')"
      ],
      "execution_count": 18,
      "outputs": []
    },
    {
      "cell_type": "code",
      "metadata": {
        "id": "vRbjWe1IdC-O",
        "outputId": "a2ad355f-f6d6-42c3-c5f3-e206313e579a",
        "colab": {
          "base_uri": "https://localhost:8080/",
          "height": 734
        }
      },
      "source": [
        "all_data_path.head()"
      ],
      "execution_count": 40,
      "outputs": [
        {
          "output_type": "execute_result",
          "data": {
            "text/html": [
              "<div>\n",
              "<style scoped>\n",
              "    .dataframe tbody tr th:only-of-type {\n",
              "        vertical-align: middle;\n",
              "    }\n",
              "\n",
              "    .dataframe tbody tr th {\n",
              "        vertical-align: top;\n",
              "    }\n",
              "\n",
              "    .dataframe thead th {\n",
              "        text-align: right;\n",
              "    }\n",
              "</style>\n",
              "<table border=\"1\" class=\"dataframe\">\n",
              "  <thead>\n",
              "    <tr style=\"text-align: right;\">\n",
              "      <th></th>\n",
              "      <th>user_id</th>\n",
              "      <th>merchant_id</th>\n",
              "      <th>label</th>\n",
              "      <th>age_range</th>\n",
              "      <th>gender</th>\n",
              "      <th>item_path</th>\n",
              "      <th>cat_path</th>\n",
              "      <th>seller_path</th>\n",
              "      <th>brand_path</th>\n",
              "      <th>time_stamp_path</th>\n",
              "      <th>action_type_path</th>\n",
              "    </tr>\n",
              "  </thead>\n",
              "  <tbody>\n",
              "    <tr>\n",
              "      <th>0</th>\n",
              "      <td>34176</td>\n",
              "      <td>3906</td>\n",
              "      <td>0.0</td>\n",
              "      <td>6.0</td>\n",
              "      <td>0.0</td>\n",
              "      <td>581818 879005 581818 581818 1011673 52343 2773...</td>\n",
              "      <td>1505 662 1505 1505 1505 662 1095 1505 662 1095...</td>\n",
              "      <td>416 3606 416 416 416 3760 3606 416 1926 3004 4...</td>\n",
              "      <td>4014.0 33.0 4014.0 4014.0 4014.0 3738.0 33.0 4...</td>\n",
              "      <td>521 521 521 521 521 521 521 521 521 521 521 52...</td>\n",
              "      <td>0 0 0 0 0 0 0 0 0 0 0 0 0 2 0 0 0 0 0 0 2 0 2 ...</td>\n",
              "    </tr>\n",
              "    <tr>\n",
              "      <th>1</th>\n",
              "      <td>34176</td>\n",
              "      <td>121</td>\n",
              "      <td>0.0</td>\n",
              "      <td>6.0</td>\n",
              "      <td>0.0</td>\n",
              "      <td>581818 879005 581818 581818 1011673 52343 2773...</td>\n",
              "      <td>1505 662 1505 1505 1505 662 1095 1505 662 1095...</td>\n",
              "      <td>416 3606 416 416 416 3760 3606 416 1926 3004 4...</td>\n",
              "      <td>4014.0 33.0 4014.0 4014.0 4014.0 3738.0 33.0 4...</td>\n",
              "      <td>521 521 521 521 521 521 521 521 521 521 521 52...</td>\n",
              "      <td>0 0 0 0 0 0 0 0 0 0 0 0 0 2 0 0 0 0 0 0 2 0 2 ...</td>\n",
              "    </tr>\n",
              "    <tr>\n",
              "      <th>2</th>\n",
              "      <td>34176</td>\n",
              "      <td>4356</td>\n",
              "      <td>1.0</td>\n",
              "      <td>6.0</td>\n",
              "      <td>0.0</td>\n",
              "      <td>581818 879005 581818 581818 1011673 52343 2773...</td>\n",
              "      <td>1505 662 1505 1505 1505 662 1095 1505 662 1095...</td>\n",
              "      <td>416 3606 416 416 416 3760 3606 416 1926 3004 4...</td>\n",
              "      <td>4014.0 33.0 4014.0 4014.0 4014.0 3738.0 33.0 4...</td>\n",
              "      <td>521 521 521 521 521 521 521 521 521 521 521 52...</td>\n",
              "      <td>0 0 0 0 0 0 0 0 0 0 0 0 0 2 0 0 0 0 0 0 2 0 2 ...</td>\n",
              "    </tr>\n",
              "    <tr>\n",
              "      <th>3</th>\n",
              "      <td>34176</td>\n",
              "      <td>2217</td>\n",
              "      <td>0.0</td>\n",
              "      <td>6.0</td>\n",
              "      <td>0.0</td>\n",
              "      <td>581818 879005 581818 581818 1011673 52343 2773...</td>\n",
              "      <td>1505 662 1505 1505 1505 662 1095 1505 662 1095...</td>\n",
              "      <td>416 3606 416 416 416 3760 3606 416 1926 3004 4...</td>\n",
              "      <td>4014.0 33.0 4014.0 4014.0 4014.0 3738.0 33.0 4...</td>\n",
              "      <td>521 521 521 521 521 521 521 521 521 521 521 52...</td>\n",
              "      <td>0 0 0 0 0 0 0 0 0 0 0 0 0 2 0 0 0 0 0 0 2 0 2 ...</td>\n",
              "    </tr>\n",
              "    <tr>\n",
              "      <th>4</th>\n",
              "      <td>230784</td>\n",
              "      <td>4818</td>\n",
              "      <td>0.0</td>\n",
              "      <td>0.0</td>\n",
              "      <td>0.0</td>\n",
              "      <td>191923 191923 191923 191923 964906 229470 2294...</td>\n",
              "      <td>1023 1023 1023 1023 662 664 664 1544 664 662 6...</td>\n",
              "      <td>3545 3545 3545 3545 4566 2537 2537 2420 2537 4...</td>\n",
              "      <td>5860.0 5860.0 5860.0 5860.0 6320.0 6064.0 6064...</td>\n",
              "      <td>601 601 601 601 614 614 614 614 614 614 618 61...</td>\n",
              "      <td>0 2 0 0 0 0 0 0 0 0 0 0 0 0 0 0 2 2 0 0 0 0 0 ...</td>\n",
              "    </tr>\n",
              "  </tbody>\n",
              "</table>\n",
              "</div>"
            ],
            "text/plain": [
              "   user_id  ...                                   action_type_path\n",
              "0    34176  ...  0 0 0 0 0 0 0 0 0 0 0 0 0 2 0 0 0 0 0 0 2 0 2 ...\n",
              "1    34176  ...  0 0 0 0 0 0 0 0 0 0 0 0 0 2 0 0 0 0 0 0 2 0 2 ...\n",
              "2    34176  ...  0 0 0 0 0 0 0 0 0 0 0 0 0 2 0 0 0 0 0 0 2 0 2 ...\n",
              "3    34176  ...  0 0 0 0 0 0 0 0 0 0 0 0 0 2 0 0 0 0 0 0 2 0 2 ...\n",
              "4   230784  ...  0 2 0 0 0 0 0 0 0 0 0 0 0 0 0 0 2 2 0 0 0 0 0 ...\n",
              "\n",
              "[5 rows x 11 columns]"
            ]
          },
          "metadata": {
            "tags": []
          },
          "execution_count": 40
        }
      ]
    },
    {
      "cell_type": "code",
      "metadata": {
        "id": "dTJ0ZIbsMtpw",
        "outputId": "db40899f-5d89-4fcb-a96b-445f2d3fc33f",
        "colab": {
          "base_uri": "https://localhost:8080/",
          "height": 34
        }
      },
      "source": [
        "del user_log\n",
        "gc.collect()"
      ],
      "execution_count": 20,
      "outputs": [
        {
          "output_type": "execute_result",
          "data": {
            "text/plain": [
              "0"
            ]
          },
          "metadata": {
            "tags": []
          },
          "execution_count": 20
        }
      ]
    },
    {
      "cell_type": "code",
      "metadata": {
        "id": "65uZlJE5RkB1"
      },
      "source": [
        "def user_cnt(df_data, single_col, name):\n",
        "    df_data[name] = df_data[single_col].apply(cnt_)\n",
        "    return df_data\n",
        "\n",
        "def user_nunique(df_data, single_col, name):\n",
        "    df_data[name] = df_data[single_col].apply(nunique_)\n",
        "    return df_data\n",
        "    \n",
        "def user_max(df_data, single_col, name):\n",
        "    df_data[name] = df_data[single_col].apply(max_)\n",
        "    return df_data\n",
        "\n",
        "def user_min(df_data, single_col, name):\n",
        "    df_data[name] = df_data[single_col].apply(min_)\n",
        "    return df_data\n",
        "    \n",
        "def user_std(df_data, single_col, name):\n",
        "    df_data[name] = df_data[single_col].apply(std_)\n",
        "    return df_data\n",
        "\n",
        "def user_most_n(df_data, single_col, name, n=1):\n",
        "    func = lambda x: most_n(x, n)\n",
        "    df_data[name] = df_data[single_col].apply(func)\n",
        "    return df_data\n",
        "\n",
        "def user_most_n_cnt(df_data, single_col, name, n=1):\n",
        "    func = lambda x: most_n_cnt(x, n)\n",
        "    df_data[name] = df_data[single_col].apply(func)\n",
        "    return df_data\n",
        "\n",
        "def user_col_cnt(df_data, columns_list, action_type, name):\n",
        "    df_data[name] = df_data.apply(lambda x: col_cnt_(x, columns_list, action_type), axis=1)\n",
        "    return df_data\n",
        "\n",
        "def user_col_nunique(df_data, columns_list, action_type, name):\n",
        "    df_data[name] = df_data.apply(lambda x: col_nuique_(x, columns_list, action_type), axis=1)\n",
        "    return df_data"
      ],
      "execution_count": 33,
      "outputs": []
    },
    {
      "cell_type": "markdown",
      "metadata": {
        "id": "NyTxTUn5Smll"
      },
      "source": [
        "## Extract Basic User Behavior Statistic"
      ]
    },
    {
      "cell_type": "code",
      "metadata": {
        "id": "fv_DS4YRScZt"
      },
      "source": [
        "all_data_test = all_data_path.head(2000)\n",
        "#all_data_test = all_data_path\n",
        "# summarize each user behavior\n",
        "\n",
        "# number of interactions between user and merchants\n",
        "all_data_test = user_cnt(all_data_test,  'seller_path', 'user_cnt')\n",
        "# number of sellers\n",
        "all_data_test = user_nunique(all_data_test,  'seller_path', 'seller_nunique')\n",
        "# number of different categories\n",
        "all_data_test = user_nunique(all_data_test,  'cat_path', 'cat_nunique')\n",
        "# number of different brand\n",
        "all_data_test = user_nunique(all_data_test,  'brand_path', 'brand_nunique')\n",
        "# number of different items\n",
        "all_data_test = user_nunique(all_data_test,  'item_path', 'item_nunique')\n",
        "# number of active days\n",
        "all_data_test = user_nunique(all_data_test,  'time_stamp_path', 'time_stamp_nunique')\n",
        "# number of different types of actions\n",
        "all_data_test = user_nunique(all_data_test,  'action_type_path', 'action_type_nunique')"
      ],
      "execution_count": 52,
      "outputs": []
    },
    {
      "cell_type": "code",
      "metadata": {
        "id": "mgeyLGtJc_Xr",
        "outputId": "b610de98-4ff2-4fe6-f859-5dc2390bb8ee",
        "colab": {
          "base_uri": "https://localhost:8080/",
          "height": 734
        }
      },
      "source": [
        "all_data_test.head()"
      ],
      "execution_count": 53,
      "outputs": [
        {
          "output_type": "execute_result",
          "data": {
            "text/html": [
              "<div>\n",
              "<style scoped>\n",
              "    .dataframe tbody tr th:only-of-type {\n",
              "        vertical-align: middle;\n",
              "    }\n",
              "\n",
              "    .dataframe tbody tr th {\n",
              "        vertical-align: top;\n",
              "    }\n",
              "\n",
              "    .dataframe thead th {\n",
              "        text-align: right;\n",
              "    }\n",
              "</style>\n",
              "<table border=\"1\" class=\"dataframe\">\n",
              "  <thead>\n",
              "    <tr style=\"text-align: right;\">\n",
              "      <th></th>\n",
              "      <th>user_id</th>\n",
              "      <th>merchant_id</th>\n",
              "      <th>label</th>\n",
              "      <th>age_range</th>\n",
              "      <th>gender</th>\n",
              "      <th>item_path</th>\n",
              "      <th>cat_path</th>\n",
              "      <th>seller_path</th>\n",
              "      <th>brand_path</th>\n",
              "      <th>time_stamp_path</th>\n",
              "      <th>action_type_path</th>\n",
              "      <th>user_cnt</th>\n",
              "      <th>seller_nunique</th>\n",
              "      <th>cat_nunique</th>\n",
              "      <th>brand_nunique</th>\n",
              "      <th>item_nunique</th>\n",
              "      <th>time_stamp_nunique</th>\n",
              "      <th>action_type_nunique</th>\n",
              "    </tr>\n",
              "  </thead>\n",
              "  <tbody>\n",
              "    <tr>\n",
              "      <th>0</th>\n",
              "      <td>34176</td>\n",
              "      <td>3906</td>\n",
              "      <td>0.0</td>\n",
              "      <td>6.0</td>\n",
              "      <td>0.0</td>\n",
              "      <td>581818 879005 581818 581818 1011673 52343 2773...</td>\n",
              "      <td>1505 662 1505 1505 1505 662 1095 1505 662 1095...</td>\n",
              "      <td>416 3606 416 416 416 3760 3606 416 1926 3004 4...</td>\n",
              "      <td>4014.0 33.0 4014.0 4014.0 4014.0 3738.0 33.0 4...</td>\n",
              "      <td>521 521 521 521 521 521 521 521 521 521 521 52...</td>\n",
              "      <td>0 0 0 0 0 0 0 0 0 0 0 0 0 2 0 0 0 0 0 0 2 0 2 ...</td>\n",
              "      <td>451</td>\n",
              "      <td>109</td>\n",
              "      <td>45</td>\n",
              "      <td>106</td>\n",
              "      <td>256</td>\n",
              "      <td>47</td>\n",
              "      <td>3</td>\n",
              "    </tr>\n",
              "    <tr>\n",
              "      <th>1</th>\n",
              "      <td>34176</td>\n",
              "      <td>121</td>\n",
              "      <td>0.0</td>\n",
              "      <td>6.0</td>\n",
              "      <td>0.0</td>\n",
              "      <td>581818 879005 581818 581818 1011673 52343 2773...</td>\n",
              "      <td>1505 662 1505 1505 1505 662 1095 1505 662 1095...</td>\n",
              "      <td>416 3606 416 416 416 3760 3606 416 1926 3004 4...</td>\n",
              "      <td>4014.0 33.0 4014.0 4014.0 4014.0 3738.0 33.0 4...</td>\n",
              "      <td>521 521 521 521 521 521 521 521 521 521 521 52...</td>\n",
              "      <td>0 0 0 0 0 0 0 0 0 0 0 0 0 2 0 0 0 0 0 0 2 0 2 ...</td>\n",
              "      <td>451</td>\n",
              "      <td>109</td>\n",
              "      <td>45</td>\n",
              "      <td>106</td>\n",
              "      <td>256</td>\n",
              "      <td>47</td>\n",
              "      <td>3</td>\n",
              "    </tr>\n",
              "    <tr>\n",
              "      <th>2</th>\n",
              "      <td>34176</td>\n",
              "      <td>4356</td>\n",
              "      <td>1.0</td>\n",
              "      <td>6.0</td>\n",
              "      <td>0.0</td>\n",
              "      <td>581818 879005 581818 581818 1011673 52343 2773...</td>\n",
              "      <td>1505 662 1505 1505 1505 662 1095 1505 662 1095...</td>\n",
              "      <td>416 3606 416 416 416 3760 3606 416 1926 3004 4...</td>\n",
              "      <td>4014.0 33.0 4014.0 4014.0 4014.0 3738.0 33.0 4...</td>\n",
              "      <td>521 521 521 521 521 521 521 521 521 521 521 52...</td>\n",
              "      <td>0 0 0 0 0 0 0 0 0 0 0 0 0 2 0 0 0 0 0 0 2 0 2 ...</td>\n",
              "      <td>451</td>\n",
              "      <td>109</td>\n",
              "      <td>45</td>\n",
              "      <td>106</td>\n",
              "      <td>256</td>\n",
              "      <td>47</td>\n",
              "      <td>3</td>\n",
              "    </tr>\n",
              "    <tr>\n",
              "      <th>3</th>\n",
              "      <td>34176</td>\n",
              "      <td>2217</td>\n",
              "      <td>0.0</td>\n",
              "      <td>6.0</td>\n",
              "      <td>0.0</td>\n",
              "      <td>581818 879005 581818 581818 1011673 52343 2773...</td>\n",
              "      <td>1505 662 1505 1505 1505 662 1095 1505 662 1095...</td>\n",
              "      <td>416 3606 416 416 416 3760 3606 416 1926 3004 4...</td>\n",
              "      <td>4014.0 33.0 4014.0 4014.0 4014.0 3738.0 33.0 4...</td>\n",
              "      <td>521 521 521 521 521 521 521 521 521 521 521 52...</td>\n",
              "      <td>0 0 0 0 0 0 0 0 0 0 0 0 0 2 0 0 0 0 0 0 2 0 2 ...</td>\n",
              "      <td>451</td>\n",
              "      <td>109</td>\n",
              "      <td>45</td>\n",
              "      <td>106</td>\n",
              "      <td>256</td>\n",
              "      <td>47</td>\n",
              "      <td>3</td>\n",
              "    </tr>\n",
              "    <tr>\n",
              "      <th>4</th>\n",
              "      <td>230784</td>\n",
              "      <td>4818</td>\n",
              "      <td>0.0</td>\n",
              "      <td>0.0</td>\n",
              "      <td>0.0</td>\n",
              "      <td>191923 191923 191923 191923 964906 229470 2294...</td>\n",
              "      <td>1023 1023 1023 1023 662 664 664 1544 664 662 6...</td>\n",
              "      <td>3545 3545 3545 3545 4566 2537 2537 2420 2537 4...</td>\n",
              "      <td>5860.0 5860.0 5860.0 5860.0 6320.0 6064.0 6064...</td>\n",
              "      <td>601 601 601 601 614 614 614 614 614 614 618 61...</td>\n",
              "      <td>0 2 0 0 0 0 0 0 0 0 0 0 0 0 0 0 2 2 0 0 0 0 0 ...</td>\n",
              "      <td>54</td>\n",
              "      <td>20</td>\n",
              "      <td>17</td>\n",
              "      <td>19</td>\n",
              "      <td>31</td>\n",
              "      <td>16</td>\n",
              "      <td>2</td>\n",
              "    </tr>\n",
              "  </tbody>\n",
              "</table>\n",
              "</div>"
            ],
            "text/plain": [
              "   user_id  merchant_id  ...  time_stamp_nunique  action_type_nunique\n",
              "0    34176         3906  ...                  47                    3\n",
              "1    34176          121  ...                  47                    3\n",
              "2    34176         4356  ...                  47                    3\n",
              "3    34176         2217  ...                  47                    3\n",
              "4   230784         4818  ...                  16                    2\n",
              "\n",
              "[5 rows x 18 columns]"
            ]
          },
          "metadata": {
            "tags": []
          },
          "execution_count": 53
        }
      ]
    },
    {
      "cell_type": "code",
      "metadata": {
        "id": "-NYcgK_-FVG5"
      },
      "source": [
        ""
      ],
      "execution_count": 54,
      "outputs": []
    },
    {
      "cell_type": "code",
      "metadata": {
        "id": "u4tuO87pIHCJ"
      },
      "source": [
        "# number of click\n",
        "all_data_test = user_col_cnt(all_data_test,  ['seller_path'], '0', 'user_cnt_0')\n",
        "# number of add-to-cart\n",
        "all_data_test = user_col_cnt(all_data_test,  ['seller_path'], '1', 'user_cnt_1')\n",
        "# number of purchase\n",
        "all_data_test = user_col_cnt(all_data_test,  ['seller_path'], '2', 'user_cnt_2')\n",
        "# number of add-to-favorite\n",
        "all_data_test = user_col_cnt(all_data_test,  ['seller_path'], '3', 'user_cnt_3')\n",
        "\n",
        "\n",
        "# Number of interacted merchants\n",
        "all_data_test = user_col_nunique(all_data_test,  ['seller_path'], '0', 'seller_nunique_0')\n"
      ],
      "execution_count": 55,
      "outputs": []
    },
    {
      "cell_type": "code",
      "metadata": {
        "id": "gQ4_YqU8RG9c",
        "outputId": "4f7eb50e-22d9-438a-f070-ef56fb8081a3",
        "colab": {
          "base_uri": "https://localhost:8080/",
          "height": 734
        }
      },
      "source": [
        "all_data_test.head()"
      ],
      "execution_count": 56,
      "outputs": [
        {
          "output_type": "execute_result",
          "data": {
            "text/html": [
              "<div>\n",
              "<style scoped>\n",
              "    .dataframe tbody tr th:only-of-type {\n",
              "        vertical-align: middle;\n",
              "    }\n",
              "\n",
              "    .dataframe tbody tr th {\n",
              "        vertical-align: top;\n",
              "    }\n",
              "\n",
              "    .dataframe thead th {\n",
              "        text-align: right;\n",
              "    }\n",
              "</style>\n",
              "<table border=\"1\" class=\"dataframe\">\n",
              "  <thead>\n",
              "    <tr style=\"text-align: right;\">\n",
              "      <th></th>\n",
              "      <th>user_id</th>\n",
              "      <th>merchant_id</th>\n",
              "      <th>label</th>\n",
              "      <th>age_range</th>\n",
              "      <th>gender</th>\n",
              "      <th>item_path</th>\n",
              "      <th>cat_path</th>\n",
              "      <th>seller_path</th>\n",
              "      <th>brand_path</th>\n",
              "      <th>time_stamp_path</th>\n",
              "      <th>action_type_path</th>\n",
              "      <th>user_cnt</th>\n",
              "      <th>seller_nunique</th>\n",
              "      <th>cat_nunique</th>\n",
              "      <th>brand_nunique</th>\n",
              "      <th>item_nunique</th>\n",
              "      <th>time_stamp_nunique</th>\n",
              "      <th>action_type_nunique</th>\n",
              "      <th>user_cnt_0</th>\n",
              "      <th>user_cnt_1</th>\n",
              "      <th>user_cnt_2</th>\n",
              "      <th>user_cnt_3</th>\n",
              "      <th>seller_nunique_0</th>\n",
              "    </tr>\n",
              "  </thead>\n",
              "  <tbody>\n",
              "    <tr>\n",
              "      <th>0</th>\n",
              "      <td>34176</td>\n",
              "      <td>3906</td>\n",
              "      <td>0.0</td>\n",
              "      <td>6.0</td>\n",
              "      <td>0.0</td>\n",
              "      <td>581818 879005 581818 581818 1011673 52343 2773...</td>\n",
              "      <td>1505 662 1505 1505 1505 662 1095 1505 662 1095...</td>\n",
              "      <td>416 3606 416 416 416 3760 3606 416 1926 3004 4...</td>\n",
              "      <td>4014.0 33.0 4014.0 4014.0 4014.0 3738.0 33.0 4...</td>\n",
              "      <td>521 521 521 521 521 521 521 521 521 521 521 52...</td>\n",
              "      <td>0 0 0 0 0 0 0 0 0 0 0 0 0 2 0 0 0 0 0 0 2 0 2 ...</td>\n",
              "      <td>451</td>\n",
              "      <td>109</td>\n",
              "      <td>45</td>\n",
              "      <td>106</td>\n",
              "      <td>256</td>\n",
              "      <td>47</td>\n",
              "      <td>3</td>\n",
              "      <td>410</td>\n",
              "      <td>0</td>\n",
              "      <td>34</td>\n",
              "      <td>7</td>\n",
              "      <td>106</td>\n",
              "    </tr>\n",
              "    <tr>\n",
              "      <th>1</th>\n",
              "      <td>34176</td>\n",
              "      <td>121</td>\n",
              "      <td>0.0</td>\n",
              "      <td>6.0</td>\n",
              "      <td>0.0</td>\n",
              "      <td>581818 879005 581818 581818 1011673 52343 2773...</td>\n",
              "      <td>1505 662 1505 1505 1505 662 1095 1505 662 1095...</td>\n",
              "      <td>416 3606 416 416 416 3760 3606 416 1926 3004 4...</td>\n",
              "      <td>4014.0 33.0 4014.0 4014.0 4014.0 3738.0 33.0 4...</td>\n",
              "      <td>521 521 521 521 521 521 521 521 521 521 521 52...</td>\n",
              "      <td>0 0 0 0 0 0 0 0 0 0 0 0 0 2 0 0 0 0 0 0 2 0 2 ...</td>\n",
              "      <td>451</td>\n",
              "      <td>109</td>\n",
              "      <td>45</td>\n",
              "      <td>106</td>\n",
              "      <td>256</td>\n",
              "      <td>47</td>\n",
              "      <td>3</td>\n",
              "      <td>410</td>\n",
              "      <td>0</td>\n",
              "      <td>34</td>\n",
              "      <td>7</td>\n",
              "      <td>106</td>\n",
              "    </tr>\n",
              "    <tr>\n",
              "      <th>2</th>\n",
              "      <td>34176</td>\n",
              "      <td>4356</td>\n",
              "      <td>1.0</td>\n",
              "      <td>6.0</td>\n",
              "      <td>0.0</td>\n",
              "      <td>581818 879005 581818 581818 1011673 52343 2773...</td>\n",
              "      <td>1505 662 1505 1505 1505 662 1095 1505 662 1095...</td>\n",
              "      <td>416 3606 416 416 416 3760 3606 416 1926 3004 4...</td>\n",
              "      <td>4014.0 33.0 4014.0 4014.0 4014.0 3738.0 33.0 4...</td>\n",
              "      <td>521 521 521 521 521 521 521 521 521 521 521 52...</td>\n",
              "      <td>0 0 0 0 0 0 0 0 0 0 0 0 0 2 0 0 0 0 0 0 2 0 2 ...</td>\n",
              "      <td>451</td>\n",
              "      <td>109</td>\n",
              "      <td>45</td>\n",
              "      <td>106</td>\n",
              "      <td>256</td>\n",
              "      <td>47</td>\n",
              "      <td>3</td>\n",
              "      <td>410</td>\n",
              "      <td>0</td>\n",
              "      <td>34</td>\n",
              "      <td>7</td>\n",
              "      <td>106</td>\n",
              "    </tr>\n",
              "    <tr>\n",
              "      <th>3</th>\n",
              "      <td>34176</td>\n",
              "      <td>2217</td>\n",
              "      <td>0.0</td>\n",
              "      <td>6.0</td>\n",
              "      <td>0.0</td>\n",
              "      <td>581818 879005 581818 581818 1011673 52343 2773...</td>\n",
              "      <td>1505 662 1505 1505 1505 662 1095 1505 662 1095...</td>\n",
              "      <td>416 3606 416 416 416 3760 3606 416 1926 3004 4...</td>\n",
              "      <td>4014.0 33.0 4014.0 4014.0 4014.0 3738.0 33.0 4...</td>\n",
              "      <td>521 521 521 521 521 521 521 521 521 521 521 52...</td>\n",
              "      <td>0 0 0 0 0 0 0 0 0 0 0 0 0 2 0 0 0 0 0 0 2 0 2 ...</td>\n",
              "      <td>451</td>\n",
              "      <td>109</td>\n",
              "      <td>45</td>\n",
              "      <td>106</td>\n",
              "      <td>256</td>\n",
              "      <td>47</td>\n",
              "      <td>3</td>\n",
              "      <td>410</td>\n",
              "      <td>0</td>\n",
              "      <td>34</td>\n",
              "      <td>7</td>\n",
              "      <td>106</td>\n",
              "    </tr>\n",
              "    <tr>\n",
              "      <th>4</th>\n",
              "      <td>230784</td>\n",
              "      <td>4818</td>\n",
              "      <td>0.0</td>\n",
              "      <td>0.0</td>\n",
              "      <td>0.0</td>\n",
              "      <td>191923 191923 191923 191923 964906 229470 2294...</td>\n",
              "      <td>1023 1023 1023 1023 662 664 664 1544 664 662 6...</td>\n",
              "      <td>3545 3545 3545 3545 4566 2537 2537 2420 2537 4...</td>\n",
              "      <td>5860.0 5860.0 5860.0 5860.0 6320.0 6064.0 6064...</td>\n",
              "      <td>601 601 601 601 614 614 614 614 614 614 618 61...</td>\n",
              "      <td>0 2 0 0 0 0 0 0 0 0 0 0 0 0 0 0 2 2 0 0 0 0 0 ...</td>\n",
              "      <td>54</td>\n",
              "      <td>20</td>\n",
              "      <td>17</td>\n",
              "      <td>19</td>\n",
              "      <td>31</td>\n",
              "      <td>16</td>\n",
              "      <td>2</td>\n",
              "      <td>47</td>\n",
              "      <td>0</td>\n",
              "      <td>7</td>\n",
              "      <td>0</td>\n",
              "      <td>20</td>\n",
              "    </tr>\n",
              "  </tbody>\n",
              "</table>\n",
              "</div>"
            ],
            "text/plain": [
              "   user_id  merchant_id  label  ...  user_cnt_2  user_cnt_3 seller_nunique_0\n",
              "0    34176         3906    0.0  ...          34           7              106\n",
              "1    34176          121    0.0  ...          34           7              106\n",
              "2    34176         4356    1.0  ...          34           7              106\n",
              "3    34176         2217    0.0  ...          34           7              106\n",
              "4   230784         4818    0.0  ...           7           0               20\n",
              "\n",
              "[5 rows x 23 columns]"
            ]
          },
          "metadata": {
            "tags": []
          },
          "execution_count": 56
        }
      ]
    },
    {
      "cell_type": "code",
      "metadata": {
        "id": "mc5bMJHVEEeE",
        "outputId": "7d144f16-97b2-4d75-8321-952d26feee03",
        "colab": {
          "base_uri": "https://localhost:8080/",
          "height": 408
        }
      },
      "source": [
        "list(all_data_test.columns)"
      ],
      "execution_count": 57,
      "outputs": [
        {
          "output_type": "execute_result",
          "data": {
            "text/plain": [
              "['user_id',\n",
              " 'merchant_id',\n",
              " 'label',\n",
              " 'age_range',\n",
              " 'gender',\n",
              " 'item_path',\n",
              " 'cat_path',\n",
              " 'seller_path',\n",
              " 'brand_path',\n",
              " 'time_stamp_path',\n",
              " 'action_type_path',\n",
              " 'user_cnt',\n",
              " 'seller_nunique',\n",
              " 'cat_nunique',\n",
              " 'brand_nunique',\n",
              " 'item_nunique',\n",
              " 'time_stamp_nunique',\n",
              " 'action_type_nunique',\n",
              " 'user_cnt_0',\n",
              " 'user_cnt_1',\n",
              " 'user_cnt_2',\n",
              " 'user_cnt_3',\n",
              " 'seller_nunique_0']"
            ]
          },
          "metadata": {
            "tags": []
          },
          "execution_count": 57
        }
      ]
    },
    {
      "cell_type": "markdown",
      "metadata": {
        "id": "ILBdxaKZNk4x"
      },
      "source": [
        "## Extract Feature with CounterVector and TFIDF"
      ]
    },
    {
      "cell_type": "markdown",
      "metadata": {
        "id": "cjyiYW6gVuww"
      },
      "source": [
        "Treat Seller Path Numbers as Text Corpus"
      ]
    },
    {
      "cell_type": "code",
      "metadata": {
        "id": "e71FwQwwEH46"
      },
      "source": [
        "from sklearn.feature_extraction.text import CountVectorizer, TfidfVectorizer, ENGLISH_STOP_WORDS\n",
        "from scipy import sparse\n",
        "\n",
        "tfidfVec = TfidfVectorizer(stop_words=ENGLISH_STOP_WORDS, ngram_range=(1, 1), max_features=100)\n",
        "\n",
        "\n",
        "# columns_list = ['seller_path', 'cat_path', 'brand_path', 'action_type_path', 'item_path', 'time_stamp_path']\n",
        "columns_list = ['seller_path']\n",
        "for i, col in enumerate(columns_list):\n",
        "    all_data_test[col] = all_data_test[col].astype(str)\n",
        "    tfidfVec.fit(all_data_test[col])\n",
        "    data_ = tfidfVec.transform(all_data_test[col])\n",
        "    if i == 0:\n",
        "        data_cat = data_\n",
        "    else:\n",
        "        data_cat = sparse.hstack((data_cat, data_))"
      ],
      "execution_count": 58,
      "outputs": []
    },
    {
      "cell_type": "code",
      "metadata": {
        "id": "yCV8LNS5VCX6"
      },
      "source": [
        "df_tfidf = pd.DataFrame(data_cat.toarray())\n",
        "df_tfidf.columns = ['tfidf_' + str(i) for i in df_tfidf.columns]\n",
        "all_data_test = pd.concat([all_data_test, df_tfidf],axis=1)"
      ],
      "execution_count": 59,
      "outputs": []
    },
    {
      "cell_type": "code",
      "metadata": {
        "id": "yGSuu2xOVIkV",
        "outputId": "5461bd52-c428-49e0-af51-5123a60d972a",
        "colab": {
          "base_uri": "https://localhost:8080/",
          "height": 763
        }
      },
      "source": [
        "all_data_test.head()"
      ],
      "execution_count": 60,
      "outputs": [
        {
          "output_type": "execute_result",
          "data": {
            "text/html": [
              "<div>\n",
              "<style scoped>\n",
              "    .dataframe tbody tr th:only-of-type {\n",
              "        vertical-align: middle;\n",
              "    }\n",
              "\n",
              "    .dataframe tbody tr th {\n",
              "        vertical-align: top;\n",
              "    }\n",
              "\n",
              "    .dataframe thead th {\n",
              "        text-align: right;\n",
              "    }\n",
              "</style>\n",
              "<table border=\"1\" class=\"dataframe\">\n",
              "  <thead>\n",
              "    <tr style=\"text-align: right;\">\n",
              "      <th></th>\n",
              "      <th>user_id</th>\n",
              "      <th>merchant_id</th>\n",
              "      <th>label</th>\n",
              "      <th>age_range</th>\n",
              "      <th>gender</th>\n",
              "      <th>item_path</th>\n",
              "      <th>cat_path</th>\n",
              "      <th>seller_path</th>\n",
              "      <th>brand_path</th>\n",
              "      <th>time_stamp_path</th>\n",
              "      <th>action_type_path</th>\n",
              "      <th>user_cnt</th>\n",
              "      <th>seller_nunique</th>\n",
              "      <th>cat_nunique</th>\n",
              "      <th>brand_nunique</th>\n",
              "      <th>item_nunique</th>\n",
              "      <th>time_stamp_nunique</th>\n",
              "      <th>action_type_nunique</th>\n",
              "      <th>user_cnt_0</th>\n",
              "      <th>user_cnt_1</th>\n",
              "      <th>user_cnt_2</th>\n",
              "      <th>user_cnt_3</th>\n",
              "      <th>seller_nunique_0</th>\n",
              "      <th>tfidf_0</th>\n",
              "      <th>tfidf_1</th>\n",
              "      <th>tfidf_2</th>\n",
              "      <th>tfidf_3</th>\n",
              "      <th>tfidf_4</th>\n",
              "      <th>tfidf_5</th>\n",
              "      <th>tfidf_6</th>\n",
              "      <th>tfidf_7</th>\n",
              "      <th>tfidf_8</th>\n",
              "      <th>tfidf_9</th>\n",
              "      <th>tfidf_10</th>\n",
              "      <th>tfidf_11</th>\n",
              "      <th>tfidf_12</th>\n",
              "      <th>tfidf_13</th>\n",
              "      <th>tfidf_14</th>\n",
              "      <th>tfidf_15</th>\n",
              "      <th>tfidf_16</th>\n",
              "      <th>...</th>\n",
              "      <th>tfidf_60</th>\n",
              "      <th>tfidf_61</th>\n",
              "      <th>tfidf_62</th>\n",
              "      <th>tfidf_63</th>\n",
              "      <th>tfidf_64</th>\n",
              "      <th>tfidf_65</th>\n",
              "      <th>tfidf_66</th>\n",
              "      <th>tfidf_67</th>\n",
              "      <th>tfidf_68</th>\n",
              "      <th>tfidf_69</th>\n",
              "      <th>tfidf_70</th>\n",
              "      <th>tfidf_71</th>\n",
              "      <th>tfidf_72</th>\n",
              "      <th>tfidf_73</th>\n",
              "      <th>tfidf_74</th>\n",
              "      <th>tfidf_75</th>\n",
              "      <th>tfidf_76</th>\n",
              "      <th>tfidf_77</th>\n",
              "      <th>tfidf_78</th>\n",
              "      <th>tfidf_79</th>\n",
              "      <th>tfidf_80</th>\n",
              "      <th>tfidf_81</th>\n",
              "      <th>tfidf_82</th>\n",
              "      <th>tfidf_83</th>\n",
              "      <th>tfidf_84</th>\n",
              "      <th>tfidf_85</th>\n",
              "      <th>tfidf_86</th>\n",
              "      <th>tfidf_87</th>\n",
              "      <th>tfidf_88</th>\n",
              "      <th>tfidf_89</th>\n",
              "      <th>tfidf_90</th>\n",
              "      <th>tfidf_91</th>\n",
              "      <th>tfidf_92</th>\n",
              "      <th>tfidf_93</th>\n",
              "      <th>tfidf_94</th>\n",
              "      <th>tfidf_95</th>\n",
              "      <th>tfidf_96</th>\n",
              "      <th>tfidf_97</th>\n",
              "      <th>tfidf_98</th>\n",
              "      <th>tfidf_99</th>\n",
              "    </tr>\n",
              "  </thead>\n",
              "  <tbody>\n",
              "    <tr>\n",
              "      <th>0</th>\n",
              "      <td>34176</td>\n",
              "      <td>3906</td>\n",
              "      <td>0.0</td>\n",
              "      <td>6.0</td>\n",
              "      <td>0.0</td>\n",
              "      <td>581818 879005 581818 581818 1011673 52343 2773...</td>\n",
              "      <td>1505 662 1505 1505 1505 662 1095 1505 662 1095...</td>\n",
              "      <td>416 3606 416 416 416 3760 3606 416 1926 3004 4...</td>\n",
              "      <td>4014.0 33.0 4014.0 4014.0 4014.0 3738.0 33.0 4...</td>\n",
              "      <td>521 521 521 521 521 521 521 521 521 521 521 52...</td>\n",
              "      <td>0 0 0 0 0 0 0 0 0 0 0 0 0 2 0 0 0 0 0 0 2 0 2 ...</td>\n",
              "      <td>451</td>\n",
              "      <td>109</td>\n",
              "      <td>45</td>\n",
              "      <td>106</td>\n",
              "      <td>256</td>\n",
              "      <td>47</td>\n",
              "      <td>3</td>\n",
              "      <td>410</td>\n",
              "      <td>0</td>\n",
              "      <td>34</td>\n",
              "      <td>7</td>\n",
              "      <td>106</td>\n",
              "      <td>0.0</td>\n",
              "      <td>0.0</td>\n",
              "      <td>0.009531</td>\n",
              "      <td>0.186124</td>\n",
              "      <td>0.0</td>\n",
              "      <td>0.173224</td>\n",
              "      <td>0.036434</td>\n",
              "      <td>0.0</td>\n",
              "      <td>0.0</td>\n",
              "      <td>0.012205</td>\n",
              "      <td>0.0</td>\n",
              "      <td>0.0</td>\n",
              "      <td>0.0</td>\n",
              "      <td>0.0</td>\n",
              "      <td>0.0</td>\n",
              "      <td>0.0</td>\n",
              "      <td>0.012738</td>\n",
              "      <td>...</td>\n",
              "      <td>0.0</td>\n",
              "      <td>0.0</td>\n",
              "      <td>0.199454</td>\n",
              "      <td>0.057178</td>\n",
              "      <td>0.0</td>\n",
              "      <td>0.0</td>\n",
              "      <td>0.0</td>\n",
              "      <td>0.0</td>\n",
              "      <td>0.0</td>\n",
              "      <td>0.0</td>\n",
              "      <td>0.0</td>\n",
              "      <td>0.0</td>\n",
              "      <td>0.234063</td>\n",
              "      <td>0.026766</td>\n",
              "      <td>0.011404</td>\n",
              "      <td>0.000000</td>\n",
              "      <td>0.031593</td>\n",
              "      <td>0.0</td>\n",
              "      <td>0.0</td>\n",
              "      <td>0.059432</td>\n",
              "      <td>0.0</td>\n",
              "      <td>0.0</td>\n",
              "      <td>0.010496</td>\n",
              "      <td>0.0</td>\n",
              "      <td>0.0</td>\n",
              "      <td>0.0</td>\n",
              "      <td>0.0</td>\n",
              "      <td>0.0</td>\n",
              "      <td>0.0</td>\n",
              "      <td>0.0</td>\n",
              "      <td>0.0</td>\n",
              "      <td>0.0</td>\n",
              "      <td>0.012666</td>\n",
              "      <td>0.011178</td>\n",
              "      <td>0.0</td>\n",
              "      <td>0.0</td>\n",
              "      <td>0.0</td>\n",
              "      <td>0.0</td>\n",
              "      <td>0.012925</td>\n",
              "      <td>0.0</td>\n",
              "    </tr>\n",
              "    <tr>\n",
              "      <th>1</th>\n",
              "      <td>34176</td>\n",
              "      <td>121</td>\n",
              "      <td>0.0</td>\n",
              "      <td>6.0</td>\n",
              "      <td>0.0</td>\n",
              "      <td>581818 879005 581818 581818 1011673 52343 2773...</td>\n",
              "      <td>1505 662 1505 1505 1505 662 1095 1505 662 1095...</td>\n",
              "      <td>416 3606 416 416 416 3760 3606 416 1926 3004 4...</td>\n",
              "      <td>4014.0 33.0 4014.0 4014.0 4014.0 3738.0 33.0 4...</td>\n",
              "      <td>521 521 521 521 521 521 521 521 521 521 521 52...</td>\n",
              "      <td>0 0 0 0 0 0 0 0 0 0 0 0 0 2 0 0 0 0 0 0 2 0 2 ...</td>\n",
              "      <td>451</td>\n",
              "      <td>109</td>\n",
              "      <td>45</td>\n",
              "      <td>106</td>\n",
              "      <td>256</td>\n",
              "      <td>47</td>\n",
              "      <td>3</td>\n",
              "      <td>410</td>\n",
              "      <td>0</td>\n",
              "      <td>34</td>\n",
              "      <td>7</td>\n",
              "      <td>106</td>\n",
              "      <td>0.0</td>\n",
              "      <td>0.0</td>\n",
              "      <td>0.009531</td>\n",
              "      <td>0.186124</td>\n",
              "      <td>0.0</td>\n",
              "      <td>0.173224</td>\n",
              "      <td>0.036434</td>\n",
              "      <td>0.0</td>\n",
              "      <td>0.0</td>\n",
              "      <td>0.012205</td>\n",
              "      <td>0.0</td>\n",
              "      <td>0.0</td>\n",
              "      <td>0.0</td>\n",
              "      <td>0.0</td>\n",
              "      <td>0.0</td>\n",
              "      <td>0.0</td>\n",
              "      <td>0.012738</td>\n",
              "      <td>...</td>\n",
              "      <td>0.0</td>\n",
              "      <td>0.0</td>\n",
              "      <td>0.199454</td>\n",
              "      <td>0.057178</td>\n",
              "      <td>0.0</td>\n",
              "      <td>0.0</td>\n",
              "      <td>0.0</td>\n",
              "      <td>0.0</td>\n",
              "      <td>0.0</td>\n",
              "      <td>0.0</td>\n",
              "      <td>0.0</td>\n",
              "      <td>0.0</td>\n",
              "      <td>0.234063</td>\n",
              "      <td>0.026766</td>\n",
              "      <td>0.011404</td>\n",
              "      <td>0.000000</td>\n",
              "      <td>0.031593</td>\n",
              "      <td>0.0</td>\n",
              "      <td>0.0</td>\n",
              "      <td>0.059432</td>\n",
              "      <td>0.0</td>\n",
              "      <td>0.0</td>\n",
              "      <td>0.010496</td>\n",
              "      <td>0.0</td>\n",
              "      <td>0.0</td>\n",
              "      <td>0.0</td>\n",
              "      <td>0.0</td>\n",
              "      <td>0.0</td>\n",
              "      <td>0.0</td>\n",
              "      <td>0.0</td>\n",
              "      <td>0.0</td>\n",
              "      <td>0.0</td>\n",
              "      <td>0.012666</td>\n",
              "      <td>0.011178</td>\n",
              "      <td>0.0</td>\n",
              "      <td>0.0</td>\n",
              "      <td>0.0</td>\n",
              "      <td>0.0</td>\n",
              "      <td>0.012925</td>\n",
              "      <td>0.0</td>\n",
              "    </tr>\n",
              "    <tr>\n",
              "      <th>2</th>\n",
              "      <td>34176</td>\n",
              "      <td>4356</td>\n",
              "      <td>1.0</td>\n",
              "      <td>6.0</td>\n",
              "      <td>0.0</td>\n",
              "      <td>581818 879005 581818 581818 1011673 52343 2773...</td>\n",
              "      <td>1505 662 1505 1505 1505 662 1095 1505 662 1095...</td>\n",
              "      <td>416 3606 416 416 416 3760 3606 416 1926 3004 4...</td>\n",
              "      <td>4014.0 33.0 4014.0 4014.0 4014.0 3738.0 33.0 4...</td>\n",
              "      <td>521 521 521 521 521 521 521 521 521 521 521 52...</td>\n",
              "      <td>0 0 0 0 0 0 0 0 0 0 0 0 0 2 0 0 0 0 0 0 2 0 2 ...</td>\n",
              "      <td>451</td>\n",
              "      <td>109</td>\n",
              "      <td>45</td>\n",
              "      <td>106</td>\n",
              "      <td>256</td>\n",
              "      <td>47</td>\n",
              "      <td>3</td>\n",
              "      <td>410</td>\n",
              "      <td>0</td>\n",
              "      <td>34</td>\n",
              "      <td>7</td>\n",
              "      <td>106</td>\n",
              "      <td>0.0</td>\n",
              "      <td>0.0</td>\n",
              "      <td>0.009531</td>\n",
              "      <td>0.186124</td>\n",
              "      <td>0.0</td>\n",
              "      <td>0.173224</td>\n",
              "      <td>0.036434</td>\n",
              "      <td>0.0</td>\n",
              "      <td>0.0</td>\n",
              "      <td>0.012205</td>\n",
              "      <td>0.0</td>\n",
              "      <td>0.0</td>\n",
              "      <td>0.0</td>\n",
              "      <td>0.0</td>\n",
              "      <td>0.0</td>\n",
              "      <td>0.0</td>\n",
              "      <td>0.012738</td>\n",
              "      <td>...</td>\n",
              "      <td>0.0</td>\n",
              "      <td>0.0</td>\n",
              "      <td>0.199454</td>\n",
              "      <td>0.057178</td>\n",
              "      <td>0.0</td>\n",
              "      <td>0.0</td>\n",
              "      <td>0.0</td>\n",
              "      <td>0.0</td>\n",
              "      <td>0.0</td>\n",
              "      <td>0.0</td>\n",
              "      <td>0.0</td>\n",
              "      <td>0.0</td>\n",
              "      <td>0.234063</td>\n",
              "      <td>0.026766</td>\n",
              "      <td>0.011404</td>\n",
              "      <td>0.000000</td>\n",
              "      <td>0.031593</td>\n",
              "      <td>0.0</td>\n",
              "      <td>0.0</td>\n",
              "      <td>0.059432</td>\n",
              "      <td>0.0</td>\n",
              "      <td>0.0</td>\n",
              "      <td>0.010496</td>\n",
              "      <td>0.0</td>\n",
              "      <td>0.0</td>\n",
              "      <td>0.0</td>\n",
              "      <td>0.0</td>\n",
              "      <td>0.0</td>\n",
              "      <td>0.0</td>\n",
              "      <td>0.0</td>\n",
              "      <td>0.0</td>\n",
              "      <td>0.0</td>\n",
              "      <td>0.012666</td>\n",
              "      <td>0.011178</td>\n",
              "      <td>0.0</td>\n",
              "      <td>0.0</td>\n",
              "      <td>0.0</td>\n",
              "      <td>0.0</td>\n",
              "      <td>0.012925</td>\n",
              "      <td>0.0</td>\n",
              "    </tr>\n",
              "    <tr>\n",
              "      <th>3</th>\n",
              "      <td>34176</td>\n",
              "      <td>2217</td>\n",
              "      <td>0.0</td>\n",
              "      <td>6.0</td>\n",
              "      <td>0.0</td>\n",
              "      <td>581818 879005 581818 581818 1011673 52343 2773...</td>\n",
              "      <td>1505 662 1505 1505 1505 662 1095 1505 662 1095...</td>\n",
              "      <td>416 3606 416 416 416 3760 3606 416 1926 3004 4...</td>\n",
              "      <td>4014.0 33.0 4014.0 4014.0 4014.0 3738.0 33.0 4...</td>\n",
              "      <td>521 521 521 521 521 521 521 521 521 521 521 52...</td>\n",
              "      <td>0 0 0 0 0 0 0 0 0 0 0 0 0 2 0 0 0 0 0 0 2 0 2 ...</td>\n",
              "      <td>451</td>\n",
              "      <td>109</td>\n",
              "      <td>45</td>\n",
              "      <td>106</td>\n",
              "      <td>256</td>\n",
              "      <td>47</td>\n",
              "      <td>3</td>\n",
              "      <td>410</td>\n",
              "      <td>0</td>\n",
              "      <td>34</td>\n",
              "      <td>7</td>\n",
              "      <td>106</td>\n",
              "      <td>0.0</td>\n",
              "      <td>0.0</td>\n",
              "      <td>0.009531</td>\n",
              "      <td>0.186124</td>\n",
              "      <td>0.0</td>\n",
              "      <td>0.173224</td>\n",
              "      <td>0.036434</td>\n",
              "      <td>0.0</td>\n",
              "      <td>0.0</td>\n",
              "      <td>0.012205</td>\n",
              "      <td>0.0</td>\n",
              "      <td>0.0</td>\n",
              "      <td>0.0</td>\n",
              "      <td>0.0</td>\n",
              "      <td>0.0</td>\n",
              "      <td>0.0</td>\n",
              "      <td>0.012738</td>\n",
              "      <td>...</td>\n",
              "      <td>0.0</td>\n",
              "      <td>0.0</td>\n",
              "      <td>0.199454</td>\n",
              "      <td>0.057178</td>\n",
              "      <td>0.0</td>\n",
              "      <td>0.0</td>\n",
              "      <td>0.0</td>\n",
              "      <td>0.0</td>\n",
              "      <td>0.0</td>\n",
              "      <td>0.0</td>\n",
              "      <td>0.0</td>\n",
              "      <td>0.0</td>\n",
              "      <td>0.234063</td>\n",
              "      <td>0.026766</td>\n",
              "      <td>0.011404</td>\n",
              "      <td>0.000000</td>\n",
              "      <td>0.031593</td>\n",
              "      <td>0.0</td>\n",
              "      <td>0.0</td>\n",
              "      <td>0.059432</td>\n",
              "      <td>0.0</td>\n",
              "      <td>0.0</td>\n",
              "      <td>0.010496</td>\n",
              "      <td>0.0</td>\n",
              "      <td>0.0</td>\n",
              "      <td>0.0</td>\n",
              "      <td>0.0</td>\n",
              "      <td>0.0</td>\n",
              "      <td>0.0</td>\n",
              "      <td>0.0</td>\n",
              "      <td>0.0</td>\n",
              "      <td>0.0</td>\n",
              "      <td>0.012666</td>\n",
              "      <td>0.011178</td>\n",
              "      <td>0.0</td>\n",
              "      <td>0.0</td>\n",
              "      <td>0.0</td>\n",
              "      <td>0.0</td>\n",
              "      <td>0.012925</td>\n",
              "      <td>0.0</td>\n",
              "    </tr>\n",
              "    <tr>\n",
              "      <th>4</th>\n",
              "      <td>230784</td>\n",
              "      <td>4818</td>\n",
              "      <td>0.0</td>\n",
              "      <td>0.0</td>\n",
              "      <td>0.0</td>\n",
              "      <td>191923 191923 191923 191923 964906 229470 2294...</td>\n",
              "      <td>1023 1023 1023 1023 662 664 664 1544 664 662 6...</td>\n",
              "      <td>3545 3545 3545 3545 4566 2537 2537 2420 2537 4...</td>\n",
              "      <td>5860.0 5860.0 5860.0 5860.0 6320.0 6064.0 6064...</td>\n",
              "      <td>601 601 601 601 614 614 614 614 614 614 618 61...</td>\n",
              "      <td>0 2 0 0 0 0 0 0 0 0 0 0 0 0 0 0 2 2 0 0 0 0 0 ...</td>\n",
              "      <td>54</td>\n",
              "      <td>20</td>\n",
              "      <td>17</td>\n",
              "      <td>19</td>\n",
              "      <td>31</td>\n",
              "      <td>16</td>\n",
              "      <td>2</td>\n",
              "      <td>47</td>\n",
              "      <td>0</td>\n",
              "      <td>7</td>\n",
              "      <td>0</td>\n",
              "      <td>20</td>\n",
              "      <td>0.0</td>\n",
              "      <td>0.0</td>\n",
              "      <td>0.000000</td>\n",
              "      <td>0.000000</td>\n",
              "      <td>0.0</td>\n",
              "      <td>0.000000</td>\n",
              "      <td>0.000000</td>\n",
              "      <td>0.0</td>\n",
              "      <td>0.0</td>\n",
              "      <td>0.000000</td>\n",
              "      <td>0.0</td>\n",
              "      <td>0.0</td>\n",
              "      <td>0.0</td>\n",
              "      <td>0.0</td>\n",
              "      <td>0.0</td>\n",
              "      <td>0.0</td>\n",
              "      <td>0.000000</td>\n",
              "      <td>...</td>\n",
              "      <td>0.0</td>\n",
              "      <td>0.0</td>\n",
              "      <td>0.000000</td>\n",
              "      <td>0.000000</td>\n",
              "      <td>0.0</td>\n",
              "      <td>0.0</td>\n",
              "      <td>0.0</td>\n",
              "      <td>0.0</td>\n",
              "      <td>0.0</td>\n",
              "      <td>0.0</td>\n",
              "      <td>0.0</td>\n",
              "      <td>0.0</td>\n",
              "      <td>0.000000</td>\n",
              "      <td>0.000000</td>\n",
              "      <td>0.000000</td>\n",
              "      <td>0.860915</td>\n",
              "      <td>0.000000</td>\n",
              "      <td>0.0</td>\n",
              "      <td>0.0</td>\n",
              "      <td>0.000000</td>\n",
              "      <td>0.0</td>\n",
              "      <td>0.0</td>\n",
              "      <td>0.000000</td>\n",
              "      <td>0.0</td>\n",
              "      <td>0.0</td>\n",
              "      <td>0.0</td>\n",
              "      <td>0.0</td>\n",
              "      <td>0.0</td>\n",
              "      <td>0.0</td>\n",
              "      <td>0.0</td>\n",
              "      <td>0.0</td>\n",
              "      <td>0.0</td>\n",
              "      <td>0.000000</td>\n",
              "      <td>0.000000</td>\n",
              "      <td>0.0</td>\n",
              "      <td>0.0</td>\n",
              "      <td>0.0</td>\n",
              "      <td>0.0</td>\n",
              "      <td>0.000000</td>\n",
              "      <td>0.0</td>\n",
              "    </tr>\n",
              "  </tbody>\n",
              "</table>\n",
              "<p>5 rows × 123 columns</p>\n",
              "</div>"
            ],
            "text/plain": [
              "   user_id  merchant_id  label  ...  tfidf_97  tfidf_98 tfidf_99\n",
              "0    34176         3906    0.0  ...       0.0  0.012925      0.0\n",
              "1    34176          121    0.0  ...       0.0  0.012925      0.0\n",
              "2    34176         4356    1.0  ...       0.0  0.012925      0.0\n",
              "3    34176         2217    0.0  ...       0.0  0.012925      0.0\n",
              "4   230784         4818    0.0  ...       0.0  0.000000      0.0\n",
              "\n",
              "[5 rows x 123 columns]"
            ]
          },
          "metadata": {
            "tags": []
          },
          "execution_count": 60
        }
      ]
    },
    {
      "cell_type": "markdown",
      "metadata": {
        "id": "rKN9Y9qTVdl9"
      },
      "source": [
        "## Feature Embedding with Word2Vec"
      ]
    },
    {
      "cell_type": "code",
      "metadata": {
        "id": "An8y586CVQtR"
      },
      "source": [
        "import gensim\n",
        "\n",
        "# Train Word2Vec model\n",
        "\n",
        "model = gensim.models.Word2Vec(all_data_test['seller_path'].apply(lambda x: x.split(' ')), size=100, window=5, min_count=5, workers=4)\n",
        "# model.save(\"product2vec.model\")\n",
        "# model = gensim.models.Word2Vec.load(\"product2vec.model\")\n",
        "\n",
        "def mean_w2v_(x, model, size=100):\n",
        "    try:\n",
        "        i = 0\n",
        "        for word in x.split(' '):\n",
        "            if word in model.wv.vocab:\n",
        "                i += 1\n",
        "                if i == 1:\n",
        "                    vec = np.zeros(size)\n",
        "                vec += model.wv[word]\n",
        "        return vec / i \n",
        "    except:\n",
        "        return  np.zeros(size)\n",
        "\n",
        "\n",
        "def get_mean_w2v(df_data, columns, model, size):\n",
        "    data_array = []\n",
        "    for index, row in df_data.iterrows():\n",
        "        w2v = mean_w2v_(row[columns], model, size)\n",
        "        data_array.append(w2v)\n",
        "    return pd.DataFrame(data_array)\n",
        "\n",
        "df_embeeding = get_mean_w2v(all_data_test, 'seller_path', model, 100)\n",
        "df_embeeding.columns = ['embeeding_' + str(i) for i in df_embeeding.columns]"
      ],
      "execution_count": 61,
      "outputs": []
    },
    {
      "cell_type": "code",
      "metadata": {
        "id": "5eMpS_cdabyn"
      },
      "source": [
        "all_data_test = pd.concat([all_data_test, df_embeeding],axis=1)"
      ],
      "execution_count": 62,
      "outputs": []
    },
    {
      "cell_type": "code",
      "metadata": {
        "id": "TS8n6vbuaeN1",
        "outputId": "4e1c82f1-5bd2-465b-b0e1-eec332662628",
        "colab": {
          "base_uri": "https://localhost:8080/",
          "height": 34
        }
      },
      "source": [
        "len(all_data_test.columns)"
      ],
      "execution_count": 63,
      "outputs": [
        {
          "output_type": "execute_result",
          "data": {
            "text/plain": [
              "223"
            ]
          },
          "metadata": {
            "tags": []
          },
          "execution_count": 63
        }
      ]
    },
    {
      "cell_type": "markdown",
      "metadata": {
        "id": "NKTglmXM8lVE"
      },
      "source": [
        ""
      ]
    }
  ]
}